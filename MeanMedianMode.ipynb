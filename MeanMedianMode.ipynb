{
 "cells": [
  {
   "cell_type": "code",
   "execution_count": 18,
   "metadata": {},
   "outputs": [],
   "source": [
    "import numpy as np\n",
    "import matplotlib.pyplot as plt\n",
    "from scipy import stats"
   ]
  },
  {
   "cell_type": "markdown",
   "metadata": {},
   "source": [
    "## Mean, Median"
   ]
  },
  {
   "cell_type": "markdown",
   "metadata": {},
   "source": [
    "Create some fake data"
   ]
  },
  {
   "cell_type": "code",
   "execution_count": 7,
   "metadata": {},
   "outputs": [
    {
     "data": {
      "text/plain": [
       "50026.75246801241"
      ]
     },
     "execution_count": 7,
     "metadata": {},
     "output_type": "execute_result"
    }
   ],
   "source": [
    "incomes = np.random.normal(50_000, 15_000, 10_000)\n",
    "np.mean(incomes)"
   ]
  },
  {
   "cell_type": "markdown",
   "metadata": {},
   "source": [
    "Segment income into 50 buckets"
   ]
  },
  {
   "cell_type": "code",
   "execution_count": 8,
   "metadata": {},
   "outputs": [
    {
     "data": {
      "image/png": "[encoded data removed]",
      "text/plain": [
       "<Figure size 640x480 with 1 Axes>"
      ]
     },
     "metadata": {},
     "output_type": "display_data"
    }
   ],
   "source": [
    "plt.hist(incomes, 50)\n",
    "plt.show()"
   ]
  },
  {
   "cell_type": "markdown",
   "metadata": {},
   "source": [
    "Calculate Mode"
   ]
  },
  {
   "cell_type": "code",
   "execution_count": 9,
   "metadata": {},
   "outputs": [
    {
     "data": {
      "text/plain": [
       "50113.18735774356"
      ]
     },
     "execution_count": 9,
     "metadata": {},
     "output_type": "execute_result"
    }
   ],
   "source": [
    "np.median(incomes)"
   ]
  },
  {
   "cell_type": "markdown",
   "metadata": {},
   "source": [
    "Add some skew to the data"
   ]
  },
  {
   "cell_type": "code",
   "execution_count": 10,
   "metadata": {},
   "outputs": [],
   "source": [
    "incomes = np.append(incomes, [1_000_000_000])"
   ]
  },
  {
   "cell_type": "markdown",
   "metadata": {},
   "source": [
    "The median won't change much, but the mean will"
   ]
  },
  {
   "cell_type": "code",
   "execution_count": 14,
   "metadata": {},
   "outputs": [
    {
     "data": {
      "text/plain": [
       "150011.7512928831"
      ]
     },
     "execution_count": 14,
     "metadata": {},
     "output_type": "execute_result"
    }
   ],
   "source": [
    "np.mean(incomes)"
   ]
  },
  {
   "cell_type": "code",
   "execution_count": 15,
   "metadata": {},
   "outputs": [
    {
     "data": {
      "text/plain": [
       "50114.5631874857"
      ]
     },
     "execution_count": 15,
     "metadata": {},
     "output_type": "execute_result"
    }
   ],
   "source": [
    "np.median(incomes)"
   ]
  },
  {
   "cell_type": "markdown",
   "metadata": {},
   "source": [
    "## Mode"
   ]
  },
  {
   "cell_type": "markdown",
   "metadata": {},
   "source": [
    "Generate some fake data"
   ]
  },
  {
   "cell_type": "code",
   "execution_count": 21,
   "metadata": {},
   "outputs": [
    {
     "data": {
      "text/plain": [
       "array([22, 25, 36, 48, 50, 28, 56, 31, 67, 66, 43, 54, 85, 27, 36, 52, 55,\n",
       "       83, 61, 74, 43, 46, 89, 54, 58, 74, 48, 26, 42, 34, 50, 44, 89, 36,\n",
       "       73, 20, 65, 51, 27, 48, 74, 30, 43, 48, 61, 59, 45, 36, 86, 23, 88,\n",
       "       23, 83, 67, 80, 85, 20, 85, 47, 49, 49, 47, 53, 43, 52, 39, 85, 35,\n",
       "       31, 20, 40, 82, 86, 67, 69, 72, 65, 31, 44, 75, 87, 66, 45, 53, 74,\n",
       "       25, 79, 30, 30, 84, 68, 52, 74, 86, 32, 28, 80, 31, 72, 47, 39, 50,\n",
       "       34, 45, 26, 76, 44, 24, 38, 44, 37, 51, 72, 68, 61, 46, 18, 81, 49,\n",
       "       53, 85, 56, 21, 83, 75, 71, 48, 50, 48, 51, 64, 45, 29, 30, 31, 79,\n",
       "       52, 36, 32, 66, 69, 26, 49, 35, 37, 55, 65, 34, 40, 45, 88, 43, 76,\n",
       "       86, 53, 79, 72, 83, 42, 29, 87, 66, 21, 76, 88, 26, 69, 31, 61, 50,\n",
       "       57, 54, 69, 28, 24, 42, 73, 19, 25, 66, 43, 26, 83, 29, 29, 27, 51,\n",
       "       28, 43, 80, 54, 41, 87, 86, 30, 32, 51, 73, 31, 21, 65, 39, 26, 26,\n",
       "       34, 40, 26, 51, 58, 54, 28, 28, 82, 30, 35, 64, 33, 22, 41, 56, 20,\n",
       "       36, 74, 32, 89, 68, 81, 85, 25, 80, 46, 33, 61, 39, 35, 32, 47, 69,\n",
       "       85, 30, 47, 23, 39, 74, 77, 73, 46, 84, 28, 75, 38, 66, 67, 57, 46,\n",
       "       39, 59, 45, 89, 45, 45, 46, 44, 40, 21, 61, 25, 19, 25, 75, 27, 27,\n",
       "       32, 48, 86, 61, 86, 48, 25, 74, 76, 74, 77, 87, 75, 22, 72, 77, 73,\n",
       "       58, 46, 33, 78, 30, 65, 30, 56, 51, 21, 80, 57, 36, 22, 27, 80, 89,\n",
       "       43, 39, 36, 70, 84, 32, 66, 32, 18, 40, 87, 70, 20, 18, 26, 75, 34,\n",
       "       50, 22, 41, 26, 59, 60, 68, 22, 28, 30, 68, 51, 81, 79, 29, 35, 52,\n",
       "       59, 76, 80, 86, 36, 25, 59, 46, 18, 86, 66, 57, 28, 27, 56, 32, 32,\n",
       "       60, 58, 31, 32, 65, 38, 53, 37, 80, 41, 48, 73, 55, 65, 86, 40, 49,\n",
       "       83, 61, 56, 76, 66, 72, 29, 49, 67, 81, 88, 88, 74, 80, 83, 55, 67,\n",
       "       25, 27, 32, 50, 68, 87, 70, 44, 31, 83, 60, 25, 21, 57, 63, 24, 25,\n",
       "       52, 84, 63, 63, 86, 76, 57, 32, 33, 26, 72, 62, 18, 66, 41, 51, 67,\n",
       "       37, 49, 24, 60, 59, 20, 28, 67, 19, 60, 42, 41, 81, 43, 77, 34, 46,\n",
       "       33, 44, 25, 52, 76, 57, 22, 69, 78, 32, 49, 62, 72, 36, 60, 75, 70,\n",
       "       86, 51, 33, 75, 50, 65, 24, 79, 57, 34, 53, 69, 76, 59, 53, 71, 80,\n",
       "       61, 83, 43, 61, 60, 33, 37, 35, 34, 67, 52, 75, 47, 55, 62, 38, 86,\n",
       "       80, 38, 18, 44, 34, 56, 22])"
      ]
     },
     "execution_count": 21,
     "metadata": {},
     "output_type": "execute_result"
    }
   ],
   "source": [
    "ages = np.random.randint(18, 90, 500)\n",
    "ages"
   ]
  },
  {
   "cell_type": "code",
   "execution_count": 22,
   "metadata": {},
   "outputs": [
    {
     "data": {
      "text/plain": [
       "ModeResult(mode=array([32]), count=array([14]))"
      ]
     },
     "execution_count": 22,
     "metadata": {},
     "output_type": "execute_result"
    }
   ],
   "source": [
    "stats.mode(ages, keepdims=True)"
   ]
  },
  {
   "cell_type": "code",
   "execution_count": null,
   "metadata": {},
   "outputs": [],
   "source": []
  }
 ],
 "metadata": {
  "kernelspec": {
   "display_name": "Python 3.9.12 ('venv': venv)",
   "language": "python",
   "name": "python3"
  },
  "language_info": {
   "codemirror_mode": {
    "name": "ipython",
    "version": 3
   },
   "file_extension": ".py",
   "mimetype": "text/x-python",
   "name": "python",
   "nbconvert_exporter": "python",
   "pygments_lexer": "ipython3",
   "version": "3.9.12"
  },
  "orig_nbformat": 4,
  "vscode": {
   "interpreter": {
    "hash": "b12fa209e62cc314e749fa1f26dedf9d2fd612c3b060f5481749381b460e2f1d"
   }
  }
 },
 "nbformat": 4,
 "nbformat_minor": 2
}
